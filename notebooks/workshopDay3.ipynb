{
 "cells": [
  {
   "cell_type": "code",
   "execution_count": 2,
   "metadata": {},
   "outputs": [
    {
     "name": "stdout",
     "output_type": "stream",
     "text": [
      "[5, 2]\n"
     ]
    }
   ],
   "source": [
    "#find the common element between 2 lists\n",
    "lst1=[1,5,2,3,6]\n",
    "lst2=[5,9,4,2,53]\n",
    "cmn_lst=[]\n",
    "\n",
    "for i in lst1:\n",
    "    if i in lst2 and i not in cmn_lst:\n",
    "        cmn_lst.append(i)\n",
    "print(cmn_lst)"
   ]
  },
  {
   "cell_type": "code",
   "execution_count": 4,
   "metadata": {},
   "outputs": [
    {
     "name": "stdout",
     "output_type": "stream",
     "text": [
      "[4, 8, 5, 9, 2, 3]\n"
     ]
    }
   ],
   "source": [
    "#remove duplicates from the lists\n",
    "lst = [4,8,5,9,8,5,2,3,4]\n",
    "templst=[]\n",
    "\n",
    "for i in lst:\n",
    "    if i not in templst:\n",
    "        templst.append(i)\n",
    "lst = templst\n",
    "print(lst)\n",
    "\n"
   ]
  },
  {
   "cell_type": "code",
   "execution_count": 5,
   "metadata": {},
   "outputs": [
    {
     "name": "stdout",
     "output_type": "stream",
     "text": [
      "My function!\n"
     ]
    }
   ],
   "source": [
    "#functions\n",
    "def printMsg():\n",
    "    print(\"My function!\")\n",
    "\n",
    "printMsg()"
   ]
  },
  {
   "cell_type": "code",
   "execution_count": 6,
   "metadata": {},
   "outputs": [
    {
     "name": "stdout",
     "output_type": "stream",
     "text": [
      "The message is :  Django Workshop\n"
     ]
    }
   ],
   "source": [
    "def printMsg1(msg):\n",
    "    print(\"The message is : \",msg)\n",
    "\n",
    "printMsg1('Django Workshop')"
   ]
  },
  {
   "cell_type": "code",
   "execution_count": 9,
   "metadata": {},
   "outputs": [
    {
     "name": "stdout",
     "output_type": "stream",
     "text": [
      "Gemini\n",
      "IT\n"
     ]
    }
   ],
   "source": [
    "def message(name):\n",
    "    print(name) #parameters scope is within the function\n",
    "\n",
    "name = 'IT'#variables scope is within the structure\n",
    "message('Gemini')\n",
    "print(name)"
   ]
  },
  {
   "cell_type": "code",
   "execution_count": 17,
   "metadata": {},
   "outputs": [
    {
     "name": "stdout",
     "output_type": "stream",
     "text": [
      "2 6 1\n",
      "2 9 3\n",
      "9 2 3\n",
      "5 3 2\n"
     ]
    }
   ],
   "source": [
    "def myNumber(a,b,c):\n",
    "    print(a,b,c)\n",
    "\n",
    "myNumber(2,6,1)\n",
    "myNumber(b=9,c=3,a=2)\n",
    "myNumber(9,c=3,b=2)\n",
    "#myNumber(5,3,b=2)#error\n",
    "myNumber(5,3,c=2)"
   ]
  },
  {
   "cell_type": "code",
   "execution_count": 22,
   "metadata": {},
   "outputs": [
    {
     "name": "stdout",
     "output_type": "stream",
     "text": [
      "9\n"
     ]
    }
   ],
   "source": [
    "def sum(a,b):\n",
    "    return a+b\n",
    "\n",
    "print(sum(4,5))"
   ]
  },
  {
   "cell_type": "code",
   "execution_count": 23,
   "metadata": {},
   "outputs": [
    {
     "name": "stdout",
     "output_type": "stream",
     "text": [
      "Hi\n",
      "python\n"
     ]
    }
   ],
   "source": [
    "def default_print(a='Hi'):\n",
    "    print(a)\n",
    "\n",
    "default_print()\n",
    "default_print('python')"
   ]
  },
  {
   "cell_type": "code",
   "execution_count": 24,
   "metadata": {},
   "outputs": [
    {
     "name": "stdout",
     "output_type": "stream",
     "text": [
      "Five\n",
      "Four\n",
      "Three\n"
     ]
    }
   ],
   "source": [
    "def count_down():\n",
    "    print('Five')\n",
    "    print('Four')\n",
    "    print('Three')\n",
    "    return\n",
    "    print('Two')\n",
    "    print('One')\n",
    "count_down()"
   ]
  },
  {
   "cell_type": "code",
   "execution_count": 27,
   "metadata": {},
   "outputs": [
    {
     "name": "stdout",
     "output_type": "stream",
     "text": [
      "4 * 5 = 20\n",
      "None\n"
     ]
    }
   ],
   "source": [
    "def mul(a,b):\n",
    "    print(a,'*',b,'=',a*b)\n",
    "    #return a*b\n",
    "\n",
    "num = mul(4,5)\n",
    "print(num)"
   ]
  },
  {
   "cell_type": "code",
   "execution_count": 31,
   "metadata": {},
   "outputs": [
    {
     "name": "stdout",
     "output_type": "stream",
     "text": [
      "True\n",
      "None\n"
     ]
    }
   ],
   "source": [
    "def find_odd(n):\n",
    "    if n%2==1:\n",
    "        return True\n",
    "print(find_odd(7))\n",
    "print(find_odd(10))"
   ]
  },
  {
   "cell_type": "code",
   "execution_count": 2,
   "metadata": {},
   "outputs": [
    {
     "name": "stdout",
     "output_type": "stream",
     "text": [
      "Enter your name : \n",
      "Enter your age : \n",
      "Enter your GPA : \n",
      "senal 23 1.0\n"
     ]
    }
   ],
   "source": [
    "print(\"Enter your name : \")\n",
    "name = input()\n",
    "print(\"Enter your age : \")\n",
    "age = int(input())\n",
    "print(\"Enter your GPA : \")\n",
    "gpa = float(input())\n",
    "\n",
    "print(name, age, gpa)"
   ]
  },
  {
   "cell_type": "code",
   "execution_count": 14,
   "metadata": {},
   "outputs": [
    {
     "name": "stdout",
     "output_type": "stream",
     "text": [
      "15\n"
     ]
    }
   ],
   "source": [
    "#create a function to return the sum of the given list\n",
    "def listSum(lst3):\n",
    "    sum = 0\n",
    "    for i in lst3:\n",
    "        sum = sum + i\n",
    "    return sum\n",
    "\n",
    "lst3=[1,2,3,4,5]\n",
    "print(listSum(lst3))\n"
   ]
  },
  {
   "cell_type": "code",
   "execution_count": 35,
   "metadata": {},
   "outputs": [
    {
     "name": "stdout",
     "output_type": "stream",
     "text": [
      "True\n"
     ]
    }
   ],
   "source": [
    "#create a function to find prime number/ ex: is-prime(10) - false\n",
    "#use the function and find the prime numbers between 1 and 30\n",
    "def isPrime(num):\n",
    "    prime = True\n",
    "    len = int(num/2) + 1\n",
    "    count =0\n",
    "\n",
    "    for i in range(2,len):\n",
    "        if(num/i!=0):\n",
    "            count = count +1\n",
    "\n",
    "    if(count>2):\n",
    "        return False\n",
    "    else:\n",
    "        return True\n",
    "\n",
    "print(isPrime(4))\n"
   ]
  }
 ],
 "metadata": {
  "kernelspec": {
   "display_name": "Python 3",
   "language": "python",
   "name": "python3"
  },
  "language_info": {
   "codemirror_mode": {
    "name": "ipython",
    "version": 3
   },
   "file_extension": ".py",
   "mimetype": "text/x-python",
   "name": "python",
   "nbconvert_exporter": "python",
   "pygments_lexer": "ipython3",
   "version": "3.12.0"
  }
 },
 "nbformat": 4,
 "nbformat_minor": 2
}
